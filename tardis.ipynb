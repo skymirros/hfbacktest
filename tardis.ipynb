{
 "cells": [
  {
   "cell_type": "code",
   "id": "initial_id",
   "metadata": {
    "collapsed": true,
    "ExecuteTime": {
     "end_time": "2025-10-16T19:05:52.234818Z",
     "start_time": "2025-10-16T19:05:51.629591Z"
    }
   },
   "source": "from hftbacktest.data.utils import tardis\n",
   "outputs": [],
   "execution_count": 1
  },
  {
   "metadata": {
    "jupyter": {
     "is_executing": true
    },
    "ExecuteTime": {
     "start_time": "2025-10-16T19:08:17.047939Z"
    }
   },
   "cell_type": "code",
   "source": [
    "tardis.convert(\n",
    "    [\n",
    "        \"data/tardis/trades/ETHUSDT/binance-futures_trades_2025-07-01_ETHUSDT.csv.gz\",\n",
    "\"data/tardis/incremental_book_L2/ETHUSDT/binance-futures_incremental_book_L2_2025-07-01_ETHUSDT.csv.gz\"\n",
    "     ]\n",
    ")"
   ],
   "id": "de0438d6e500a9ae",
   "outputs": [
    {
     "name": "stdout",
     "output_type": "stream",
     "text": [
      "Reading data/tardis/trades/ETHUSDT/binance-futures_trades_2025-07-01_ETHUSDT.csv.gz\n",
      "Reading data/tardis/incremental_book_L2/ETHUSDT/binance-futures_incremental_book_L2_2025-07-01_ETHUSDT.csv.gz\n"
     ]
    }
   ],
   "execution_count": null
  }
 ],
 "metadata": {
  "kernelspec": {
   "display_name": "Python 3",
   "language": "python",
   "name": "python3"
  },
  "language_info": {
   "codemirror_mode": {
    "name": "ipython",
    "version": 2
   },
   "file_extension": ".py",
   "mimetype": "text/x-python",
   "name": "python",
   "nbconvert_exporter": "python",
   "pygments_lexer": "ipython2",
   "version": "2.7.6"
  }
 },
 "nbformat": 4,
 "nbformat_minor": 5
}

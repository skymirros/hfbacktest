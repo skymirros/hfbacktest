{
 "cells": [
  {
   "metadata": {
    "ExecuteTime": {
     "end_time": "2025-10-14T13:15:53.312017Z",
     "start_time": "2025-10-14T13:15:53.214983Z"
    }
   },
   "cell_type": "code",
   "source": "import optuna",
   "id": "1d02826904bab08b",
   "outputs": [
    {
     "name": "stderr",
     "output_type": "stream",
     "text": [
      "C:\\Users\\81393\\miniconda3\\envs\\market-making\\Lib\\site-packages\\tqdm\\auto.py:21: TqdmWarning: IProgress not found. Please update jupyter and ipywidgets. See https://ipywidgets.readthedocs.io/en/stable/user_install.html\n",
      "  from .autonotebook import tqdm as notebook_tqdm\n"
     ]
    }
   ],
   "execution_count": 1
  },
  {
   "metadata": {
    "ExecuteTime": {
     "end_time": "2025-10-14T13:47:35.017911Z",
     "start_time": "2025-10-14T13:47:34.984354Z"
    }
   },
   "cell_type": "code",
   "source": "optuna.create_study(study_name=\"name\",direction=\"maximize\", sampler=optuna.samplers.TPESampler(seed=42),storage=\"sqlite:///mm.db\")",
   "id": "db00b1e9b5292db2",
   "outputs": [
    {
     "name": "stderr",
     "output_type": "stream",
     "text": [
      "[I 2025-10-14 21:47:35,013] A new study created in RDB with name: name\n"
     ]
    },
    {
     "data": {
      "text/plain": [
       "<optuna.study.study.Study at 0x1e60cdb5190>"
      ]
     },
     "execution_count": 19,
     "metadata": {},
     "output_type": "execute_result"
    }
   ],
   "execution_count": 19
  },
  {
   "metadata": {
    "ExecuteTime": {
     "end_time": "2025-10-14T13:51:55.737361Z",
     "start_time": "2025-10-14T13:51:55.680703Z"
    }
   },
   "cell_type": "code",
   "source": "optuna.get_all_study_summaries( storage=\"sqlite:///mm.db\")[0].best_trial\n",
   "id": "f960b63fe476dcd2",
   "outputs": [],
   "execution_count": 26
  }
 ],
 "metadata": {
  "kernelspec": {
   "display_name": "hfbacktest",
   "language": "python",
   "name": "python3"
  },
  "language_info": {
   "codemirror_mode": {
    "name": "ipython",
    "version": 3
   },
   "file_extension": ".py",
   "mimetype": "text/x-python",
   "name": "python",
   "nbconvert_exporter": "python",
   "pygments_lexer": "ipython3",
   "version": "3.10.16"
  }
 },
 "nbformat": 4,
 "nbformat_minor": 5
}
